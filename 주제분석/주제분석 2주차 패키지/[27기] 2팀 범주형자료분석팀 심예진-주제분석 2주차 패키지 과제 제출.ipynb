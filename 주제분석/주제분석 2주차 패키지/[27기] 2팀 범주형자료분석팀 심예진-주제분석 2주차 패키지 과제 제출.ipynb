{
 "cells": [
  {
   "cell_type": "code",
   "execution_count": 1,
   "metadata": {},
   "outputs": [],
   "source": [
    "import pandas as pd\n",
    "import numpy as np"
   ]
  },
  {
   "cell_type": "code",
   "execution_count": 2,
   "metadata": {},
   "outputs": [],
   "source": [
    "#1.1 데이터 불러오기\n",
    "train=pd.read_csv('train.csv')\n",
    "test=pd.read_csv('test.csv')"
   ]
  },
  {
   "cell_type": "code",
   "execution_count": 3,
   "metadata": {
    "scrolled": true
   },
   "outputs": [
    {
     "data": {
      "text/html": [
       "<div>\n",
       "<style scoped>\n",
       "    .dataframe tbody tr th:only-of-type {\n",
       "        vertical-align: middle;\n",
       "    }\n",
       "\n",
       "    .dataframe tbody tr th {\n",
       "        vertical-align: top;\n",
       "    }\n",
       "\n",
       "    .dataframe thead th {\n",
       "        text-align: right;\n",
       "    }\n",
       "</style>\n",
       "<table border=\"1\" class=\"dataframe\">\n",
       "  <thead>\n",
       "    <tr style=\"text-align: right;\">\n",
       "      <th></th>\n",
       "      <th>dong</th>\n",
       "      <th>apt</th>\n",
       "      <th>exclusive_use_area</th>\n",
       "      <th>floor</th>\n",
       "      <th>transaction_year</th>\n",
       "      <th>until_trans</th>\n",
       "      <th>sin_date</th>\n",
       "      <th>cos_date</th>\n",
       "    </tr>\n",
       "  </thead>\n",
       "  <tbody>\n",
       "    <tr>\n",
       "      <th>0</th>\n",
       "      <td>사직동</td>\n",
       "      <td>광화문풍림스페이스본(9-0)</td>\n",
       "      <td>95.88</td>\n",
       "      <td>6</td>\n",
       "      <td>0</td>\n",
       "      <td>5</td>\n",
       "      <td>-1.000000e+00</td>\n",
       "      <td>-1.836970e-16</td>\n",
       "    </tr>\n",
       "    <tr>\n",
       "      <th>1</th>\n",
       "      <td>사직동</td>\n",
       "      <td>광화문풍림스페이스본(9-0)</td>\n",
       "      <td>108.55</td>\n",
       "      <td>11</td>\n",
       "      <td>0</td>\n",
       "      <td>5</td>\n",
       "      <td>-2.449294e-16</td>\n",
       "      <td>1.000000e+00</td>\n",
       "    </tr>\n",
       "    <tr>\n",
       "      <th>2</th>\n",
       "      <td>사직동</td>\n",
       "      <td>광화문풍림스페이스본(9-0)</td>\n",
       "      <td>94.51</td>\n",
       "      <td>1</td>\n",
       "      <td>0</td>\n",
       "      <td>5</td>\n",
       "      <td>-2.449294e-16</td>\n",
       "      <td>1.000000e+00</td>\n",
       "    </tr>\n",
       "    <tr>\n",
       "      <th>3</th>\n",
       "      <td>수송동</td>\n",
       "      <td>로얄팰리스스위트</td>\n",
       "      <td>42.87</td>\n",
       "      <td>8</td>\n",
       "      <td>0</td>\n",
       "      <td>8</td>\n",
       "      <td>-1.000000e+00</td>\n",
       "      <td>-1.836970e-16</td>\n",
       "    </tr>\n",
       "    <tr>\n",
       "      <th>4</th>\n",
       "      <td>수송동</td>\n",
       "      <td>로얄팰리스스위트</td>\n",
       "      <td>39.67</td>\n",
       "      <td>15</td>\n",
       "      <td>0</td>\n",
       "      <td>8</td>\n",
       "      <td>1.000000e+00</td>\n",
       "      <td>3.061617e-16</td>\n",
       "    </tr>\n",
       "  </tbody>\n",
       "</table>\n",
       "</div>"
      ],
      "text/plain": [
       "  dong              apt  exclusive_use_area  floor  transaction_year  until_trans      sin_date      cos_date\n",
       "0  사직동  광화문풍림스페이스본(9-0)               95.88      6                 0            5 -1.000000e+00 -1.836970e-16\n",
       "1  사직동  광화문풍림스페이스본(9-0)              108.55     11                 0            5 -2.449294e-16  1.000000e+00\n",
       "2  사직동  광화문풍림스페이스본(9-0)               94.51      1                 0            5 -2.449294e-16  1.000000e+00\n",
       "3  수송동         로얄팰리스스위트               42.87      8                 0            8 -1.000000e+00 -1.836970e-16\n",
       "4  수송동         로얄팰리스스위트               39.67     15                 0            8  1.000000e+00  3.061617e-16"
      ]
     },
     "execution_count": 3,
     "metadata": {},
     "output_type": "execute_result"
    }
   ],
   "source": [
    "#1.2 단위 수정\n",
    "train_x = train.drop(['price'], axis = 1)\n",
    "train_y = train.loc[:, ['price']]\n",
    "train_x.head()"
   ]
  },
  {
   "cell_type": "code",
   "execution_count": 4,
   "metadata": {},
   "outputs": [],
   "source": [
    "#1.3 validation set 분할 - 첫번째\n",
    "from sklearn.model_selection import train_test_split\n",
    "train_tune_x, val_x, train_tune_y, val_y = train_test_split(train_x, train_y, test_size=0.2, shuffle=True, random_state=34)"
   ]
  },
  {
   "cell_type": "code",
   "execution_count": 5,
   "metadata": {},
   "outputs": [],
   "source": [
    "#1.4 질문\n",
    "#관측된 시간이 존재하는 상황에서 데이터를 나눌 경우 validation은 not trivial하기에 \n",
    "#랜덤으로 샘플을 고르지 못하고, 그들을 train과 test로 지정할 수 없다. \n",
    "#그 이유는 미래의 값을 사용해서 과거의 값을 예측하는 것은 이치에 맞지 않기 때문이다\n",
    "#따라서 관찰 사이에는 시간적 종속성이 있으며 테스트 중에는 해당 관계를 잘 유지해야한다.\n",
    "#이를 해결하기 위해서는 롤링 기반 교차 검증을 사용하면 된다. "
   ]
  },
  {
   "cell_type": "code",
   "execution_count": 6,
   "metadata": {},
   "outputs": [
    {
     "data": {
      "text/html": [
       "<div>\n",
       "<style scoped>\n",
       "    .dataframe tbody tr th:only-of-type {\n",
       "        vertical-align: middle;\n",
       "    }\n",
       "\n",
       "    .dataframe tbody tr th {\n",
       "        vertical-align: top;\n",
       "    }\n",
       "\n",
       "    .dataframe thead th {\n",
       "        text-align: right;\n",
       "    }\n",
       "</style>\n",
       "<table border=\"1\" class=\"dataframe\">\n",
       "  <thead>\n",
       "    <tr style=\"text-align: right;\">\n",
       "      <th></th>\n",
       "      <th>dong</th>\n",
       "      <th>apt</th>\n",
       "      <th>exclusive_use_area</th>\n",
       "      <th>floor</th>\n",
       "      <th>transaction_year</th>\n",
       "      <th>until_trans</th>\n",
       "      <th>sin_date</th>\n",
       "      <th>cos_date</th>\n",
       "    </tr>\n",
       "  </thead>\n",
       "  <tbody>\n",
       "    <tr>\n",
       "      <th>0</th>\n",
       "      <td>사직동</td>\n",
       "      <td>광화문풍림스페이스본(9-0)</td>\n",
       "      <td>95.88</td>\n",
       "      <td>6</td>\n",
       "      <td>0</td>\n",
       "      <td>5</td>\n",
       "      <td>-1.000000e+00</td>\n",
       "      <td>-1.836970e-16</td>\n",
       "    </tr>\n",
       "    <tr>\n",
       "      <th>1</th>\n",
       "      <td>사직동</td>\n",
       "      <td>광화문풍림스페이스본(9-0)</td>\n",
       "      <td>108.55</td>\n",
       "      <td>11</td>\n",
       "      <td>0</td>\n",
       "      <td>5</td>\n",
       "      <td>-2.449294e-16</td>\n",
       "      <td>1.000000e+00</td>\n",
       "    </tr>\n",
       "    <tr>\n",
       "      <th>2</th>\n",
       "      <td>사직동</td>\n",
       "      <td>광화문풍림스페이스본(9-0)</td>\n",
       "      <td>94.51</td>\n",
       "      <td>1</td>\n",
       "      <td>0</td>\n",
       "      <td>5</td>\n",
       "      <td>-2.449294e-16</td>\n",
       "      <td>1.000000e+00</td>\n",
       "    </tr>\n",
       "    <tr>\n",
       "      <th>3</th>\n",
       "      <td>수송동</td>\n",
       "      <td>로얄팰리스스위트</td>\n",
       "      <td>42.87</td>\n",
       "      <td>8</td>\n",
       "      <td>0</td>\n",
       "      <td>8</td>\n",
       "      <td>-1.000000e+00</td>\n",
       "      <td>-1.836970e-16</td>\n",
       "    </tr>\n",
       "    <tr>\n",
       "      <th>4</th>\n",
       "      <td>수송동</td>\n",
       "      <td>로얄팰리스스위트</td>\n",
       "      <td>39.67</td>\n",
       "      <td>15</td>\n",
       "      <td>0</td>\n",
       "      <td>8</td>\n",
       "      <td>1.000000e+00</td>\n",
       "      <td>3.061617e-16</td>\n",
       "    </tr>\n",
       "  </tbody>\n",
       "</table>\n",
       "</div>"
      ],
      "text/plain": [
       "  dong              apt  exclusive_use_area  floor  transaction_year  until_trans      sin_date      cos_date\n",
       "0  사직동  광화문풍림스페이스본(9-0)               95.88      6                 0            5 -1.000000e+00 -1.836970e-16\n",
       "1  사직동  광화문풍림스페이스본(9-0)              108.55     11                 0            5 -2.449294e-16  1.000000e+00\n",
       "2  사직동  광화문풍림스페이스본(9-0)               94.51      1                 0            5 -2.449294e-16  1.000000e+00\n",
       "3  수송동         로얄팰리스스위트               42.87      8                 0            8 -1.000000e+00 -1.836970e-16\n",
       "4  수송동         로얄팰리스스위트               39.67     15                 0            8  1.000000e+00  3.061617e-16"
      ]
     },
     "execution_count": 6,
     "metadata": {},
     "output_type": "execute_result"
    }
   ],
   "source": [
    "#1.5 validation set 분할 - 두번째\n",
    "val_x = train_x[train['transaction_year'] == 4]\n",
    "val_y = train_y[train['transaction_year'] == 4]\n",
    "train_tune_x = train_x[train['transaction_year'] < 4]\n",
    "train_tune_y = train_y[train['transaction_year'] < 4]\n",
    "train_tune_x.head()"
   ]
  },
  {
   "cell_type": "code",
   "execution_count": 7,
   "metadata": {
    "scrolled": true
   },
   "outputs": [
    {
     "name": "stdout",
     "output_type": "stream",
     "text": [
      "Requirement already satisfied: category_encoders in c:\\users\\user\\anaconda3\\lib\\site-packages (2.2.2)\n",
      "Requirement already satisfied: pandas>=0.21.1 in c:\\users\\user\\anaconda3\\lib\\site-packages (from category_encoders) (1.1.3)\n",
      "Requirement already satisfied: scikit-learn>=0.20.0 in c:\\users\\user\\anaconda3\\lib\\site-packages (from category_encoders) (0.23.2)\n",
      "Requirement already satisfied: statsmodels>=0.9.0 in c:\\users\\user\\anaconda3\\lib\\site-packages (from category_encoders) (0.12.0)\n",
      "Requirement already satisfied: patsy>=0.5.1 in c:\\users\\user\\anaconda3\\lib\\site-packages (from category_encoders) (0.5.1)\n",
      "Requirement already satisfied: numpy>=1.14.0 in c:\\users\\user\\anaconda3\\lib\\site-packages (from category_encoders) (1.19.2)\n",
      "Requirement already satisfied: scipy>=1.0.0 in c:\\users\\user\\anaconda3\\lib\\site-packages (from category_encoders) (1.5.2)\n",
      "Requirement already satisfied: python-dateutil>=2.7.3 in c:\\users\\user\\anaconda3\\lib\\site-packages (from pandas>=0.21.1->category_encoders) (2.8.1)\n",
      "Requirement already satisfied: pytz>=2017.2 in c:\\users\\user\\anaconda3\\lib\\site-packages (from pandas>=0.21.1->category_encoders) (2020.1)\n",
      "Requirement already satisfied: joblib>=0.11 in c:\\users\\user\\anaconda3\\lib\\site-packages (from scikit-learn>=0.20.0->category_encoders) (0.17.0)\n",
      "Requirement already satisfied: threadpoolctl>=2.0.0 in c:\\users\\user\\anaconda3\\lib\\site-packages (from scikit-learn>=0.20.0->category_encoders) (2.1.0)\n",
      "Requirement already satisfied: six in c:\\users\\user\\anaconda3\\lib\\site-packages (from patsy>=0.5.1->category_encoders) (1.15.0)\n"
     ]
    }
   ],
   "source": [
    "#1.5 캣부스트 인코딩 전에\n",
    "! pip install category_encoders"
   ]
  },
  {
   "cell_type": "code",
   "execution_count": 8,
   "metadata": {},
   "outputs": [],
   "source": [
    "from category_encoders.cat_boost import CatBoostEncoder"
   ]
  },
  {
   "cell_type": "code",
   "execution_count": 9,
   "metadata": {
    "scrolled": true
   },
   "outputs": [],
   "source": [
    "#1.6 캣부스트 인코딩\n",
    "def catboost_encoder(train_x, train_y, test_x):\n",
    "  cate_var = list(train_x.select_dtypes(include=['object']))\n",
    "  encoder = CatBoostEncoder()\n",
    "  cbe_train_x = encoder.fit_transform(train_x[cate_var], train_y)\n",
    "  cbe_test_x = encoder.transform(test_x[cate_var])\n",
    "  cbe_train_result = (np.concatenate((cbe_train_x, train_x.loc[:,['exclusive_use_area', 'floor', 'transaction_year', \n",
    "                                                                  'until_trans', 'sin_time', 'cos_time']]), axis=1))\n",
    "  cbe_test_result = (np.concatenate((cbe_test_x, test_x.loc[:,['exclusive_use_area', 'floor', 'transaction_year', \n",
    "                                                               'until_trans', 'sin_time', 'cos_time']]), axis=1))\n",
    "  cbe_final_train = pd.DataFrame(cbe_train_result, columns= train_x.columns)\n",
    "  cbe_final_test = pd.DataFrame(cbe_test_result, columns= test_x.columns)\n",
    "  return(cbe_final_train, cbe_final_test)"
   ]
  },
  {
   "cell_type": "code",
   "execution_count": 10,
   "metadata": {},
   "outputs": [
    {
     "data": {
      "text/html": [
       "<div>\n",
       "<style scoped>\n",
       "    .dataframe tbody tr th:only-of-type {\n",
       "        vertical-align: middle;\n",
       "    }\n",
       "\n",
       "    .dataframe tbody tr th {\n",
       "        vertical-align: top;\n",
       "    }\n",
       "\n",
       "    .dataframe thead th {\n",
       "        text-align: right;\n",
       "    }\n",
       "</style>\n",
       "<table border=\"1\" class=\"dataframe\">\n",
       "  <thead>\n",
       "    <tr style=\"text-align: right;\">\n",
       "      <th></th>\n",
       "      <th>dong</th>\n",
       "      <th>apt</th>\n",
       "      <th>exclusive_use_area</th>\n",
       "      <th>floor</th>\n",
       "      <th>transaction_year</th>\n",
       "      <th>until_trans</th>\n",
       "      <th>sin_date</th>\n",
       "      <th>cos_date</th>\n",
       "    </tr>\n",
       "  </thead>\n",
       "  <tbody>\n",
       "    <tr>\n",
       "      <th>2451</th>\n",
       "      <td>89176.597368</td>\n",
       "      <td>86280.203194</td>\n",
       "      <td>107.91</td>\n",
       "      <td>14</td>\n",
       "      <td>4</td>\n",
       "      <td>9</td>\n",
       "      <td>-1.000000e+00</td>\n",
       "      <td>-1.836970e-16</td>\n",
       "    </tr>\n",
       "    <tr>\n",
       "      <th>2452</th>\n",
       "      <td>89176.597368</td>\n",
       "      <td>86280.203194</td>\n",
       "      <td>151.81</td>\n",
       "      <td>10</td>\n",
       "      <td>4</td>\n",
       "      <td>9</td>\n",
       "      <td>-1.000000e+00</td>\n",
       "      <td>-1.836970e-16</td>\n",
       "    </tr>\n",
       "    <tr>\n",
       "      <th>2453</th>\n",
       "      <td>89176.597368</td>\n",
       "      <td>86280.203194</td>\n",
       "      <td>94.51</td>\n",
       "      <td>2</td>\n",
       "      <td>4</td>\n",
       "      <td>9</td>\n",
       "      <td>-2.449294e-16</td>\n",
       "      <td>1.000000e+00</td>\n",
       "    </tr>\n",
       "    <tr>\n",
       "      <th>2454</th>\n",
       "      <td>89176.597368</td>\n",
       "      <td>86280.203194</td>\n",
       "      <td>94.28</td>\n",
       "      <td>12</td>\n",
       "      <td>4</td>\n",
       "      <td>9</td>\n",
       "      <td>-2.449294e-16</td>\n",
       "      <td>1.000000e+00</td>\n",
       "    </tr>\n",
       "    <tr>\n",
       "      <th>2455</th>\n",
       "      <td>103789.156533</td>\n",
       "      <td>107170.755379</td>\n",
       "      <td>145.96</td>\n",
       "      <td>13</td>\n",
       "      <td>4</td>\n",
       "      <td>13</td>\n",
       "      <td>-1.000000e+00</td>\n",
       "      <td>-1.836970e-16</td>\n",
       "    </tr>\n",
       "  </tbody>\n",
       "</table>\n",
       "</div>"
      ],
      "text/plain": [
       "               dong            apt  exclusive_use_area  ...  until_trans      sin_date      cos_date\n",
       "2451   89176.597368   86280.203194              107.91  ...            9 -1.000000e+00 -1.836970e-16\n",
       "2452   89176.597368   86280.203194              151.81  ...            9 -1.000000e+00 -1.836970e-16\n",
       "2453   89176.597368   86280.203194               94.51  ...            9 -2.449294e-16  1.000000e+00\n",
       "2454   89176.597368   86280.203194               94.28  ...            9 -2.449294e-16  1.000000e+00\n",
       "2455  103789.156533  107170.755379              145.96  ...           13 -1.000000e+00 -1.836970e-16\n",
       "\n",
       "[5 rows x 8 columns]"
      ]
     },
     "execution_count": 10,
     "metadata": {},
     "output_type": "execute_result"
    }
   ],
   "source": [
    "feature_list = list(train_tune_x.columns)\n",
    "\n",
    "CBE_encoder = CatBoostEncoder()\n",
    "train_tune_cbe = CBE_encoder.fit_transform(train_tune_x[feature_list], train_tune_y)\n",
    "val_cbe = CBE_encoder.transform(val_x[feature_list])\n",
    "\n",
    "val_cbe.head()"
   ]
  },
  {
   "cell_type": "code",
   "execution_count": 11,
   "metadata": {
    "scrolled": false
   },
   "outputs": [
    {
     "data": {
      "text/plain": [
       "<AxesSubplot:>"
      ]
     },
     "execution_count": 11,
     "metadata": {},
     "output_type": "execute_result"
    },
    {
     "data": {
      "image/png": "[encoded data removed]",
      "text/plain": [
       "<Figure size 720x576 with 2 Axes>"
      ]
     },
     "metadata": {
      "needs_background": "light"
     },
     "output_type": "display_data"
    }
   ],
   "source": [
    "#2.1 릿지회귀-상관계수 플랏\n",
    "import matplotlib.pyplot as plt\n",
    "import seaborn as sns\n",
    "\n",
    "plt.figure(figsize=(10,8))\n",
    "sns.heatmap(data = train_tune_cbe.corr(), annot=True, \n",
    "fmt = '.2f', linewidths=.5, cmap='Blues')"
   ]
  },
  {
   "cell_type": "code",
   "execution_count": 12,
   "metadata": {},
   "outputs": [
    {
     "name": "stdout",
     "output_type": "stream",
     "text": [
      "{'alpha': 1e-06}\n",
      "14777.881419493464\n",
      "[14777.881419493464, 14777.881419502499, 14777.881419592875, 14777.881420496602, 14777.881429533885]\n"
     ]
    }
   ],
   "source": [
    "#2.2 해석과 무관하게 일단 릿지 튜닝\n",
    "from sklearn.linear_model import Ridge\n",
    "from sklearn.metrics import mean_squared_error\n",
    "from math import sqrt\n",
    "\n",
    "best_ridge_score = 1000000\n",
    "each_score = []\n",
    "alpha_ridge = [0.000001,0.00001, 0.0001, 0.001, 0.01]\n",
    "\n",
    "for alpha1 in alpha_ridge:\n",
    "    ridge_reg = Ridge(alpha = alpha1)\n",
    "    ridge_reg.fit(train_tune_cbe, train_tune_y)\n",
    "    pred_y = ridge_reg.predict(val_cbe)\n",
    "    rmse_ridge = sqrt(mean_squared_error(val_y, pred_y))\n",
    "    \n",
    "    each_score.append(rmse_ridge)\n",
    "    \n",
    "        # RMSE가 더 작으면 기록합니다.\n",
    "    if rmse_ridge < best_ridge_score:\n",
    "        best_ridge_score = rmse_ridge\n",
    "        best_parameters = {'alpha': alpha1}\n",
    "        \n",
    "print(best_parameters)\n",
    "print(best_ridge_score)\n",
    "print(each_score)"
   ]
  },
  {
   "cell_type": "code",
   "execution_count": 13,
   "metadata": {},
   "outputs": [
    {
     "data": {
      "text/plain": [
       "<AxesSubplot:>"
      ]
     },
     "execution_count": 13,
     "metadata": {},
     "output_type": "execute_result"
    },
    {
     "data": {
      "image/png": "[encoded data removed]",
      "text/plain": [
       "<Figure size 432x288 with 1 Axes>"
      ]
     },
     "metadata": {
      "needs_background": "light"
     },
     "output_type": "display_data"
    }
   ],
   "source": [
    "#2.3 튜닝결과 시각화\n",
    "sns.lineplot(x = alpha_ridge, y = each_score)"
   ]
  },
  {
   "cell_type": "code",
   "execution_count": 14,
   "metadata": {},
   "outputs": [],
   "source": [
    "#2.4 해석\n",
    "#릿지에 사용된 알파 값이 크게되면 패널티의 효과가 커지게 되고, 작게되면 그 반대가되는데,\n",
    "#알파가 0.00001과 0.1의 그래프 폭에 조금 차이가 있어보이지만, 큰 차이를 보이진 않는다."
   ]
  },
  {
   "cell_type": "code",
   "execution_count": 15,
   "metadata": {},
   "outputs": [
    {
     "name": "stdout",
     "output_type": "stream",
     "text": [
      "RMSE of linear regression is 14777.881419492394\n"
     ]
    }
   ],
   "source": [
    "#2.5 그냥 선형 모형으로!\n",
    "#릿지는 알파값이 작아지면서 점점 선형 모형에 가까워져야하는데, 알파값이 커도 선형모형과 거의 비슷한 형태를 이루기 때문에,\n",
    "#단순한 선형모형을 사용하여 RMSE를 사용하는 것이 더 나을 것 같다.\n",
    "\n",
    "from sklearn.linear_model import LinearRegression\n",
    "lin_reg = LinearRegression()\n",
    "lin_reg.fit(train_tune_cbe, train_tune_y)\n",
    "pred_y = lin_reg.predict(val_cbe)\n",
    "rmse_lin = sqrt(mean_squared_error(val_y, pred_y))\n",
    "print('RMSE of linear regression is', rmse_lin)"
   ]
  },
  {
   "cell_type": "code",
   "execution_count": 16,
   "metadata": {
    "scrolled": false
   },
   "outputs": [
    {
     "name": "stdout",
     "output_type": "stream",
     "text": [
      "Requirement already satisfied: lightgbm in c:\\users\\user\\anaconda3\\lib\\site-packages (3.2.1)\n",
      "Requirement already satisfied: scikit-learn!=0.22.0 in c:\\users\\user\\anaconda3\\lib\\site-packages (from lightgbm) (0.23.2)\n",
      "Requirement already satisfied: numpy in c:\\users\\user\\anaconda3\\lib\\site-packages (from lightgbm) (1.19.2)\n",
      "Requirement already satisfied: scipy in c:\\users\\user\\anaconda3\\lib\\site-packages (from lightgbm) (1.5.2)\n",
      "Requirement already satisfied: wheel in c:\\users\\user\\anaconda3\\lib\\site-packages (from lightgbm) (0.35.1)\n",
      "Requirement already satisfied: joblib>=0.11 in c:\\users\\user\\anaconda3\\lib\\site-packages (from scikit-learn!=0.22.0->lightgbm) (0.17.0)\n",
      "Requirement already satisfied: threadpoolctl>=2.0.0 in c:\\users\\user\\anaconda3\\lib\\site-packages (from scikit-learn!=0.22.0->lightgbm) (2.1.0)\n"
     ]
    }
   ],
   "source": [
    "#3 LightGBM\n",
    "! pip install lightgbm"
   ]
  },
  {
   "cell_type": "code",
   "execution_count": 17,
   "metadata": {},
   "outputs": [],
   "source": [
    "#3.1 LightGBM 이해\n",
    "#특징: 기존의 gradient boosting 알고리즘과는 다르게 리프 중심 트리 분할을 사용하여서 트리의 깊이를 줄이고 균형 트리 분할을 사용한다.\n",
    "#장점: 큰 사이즈의 데이터를 다루는 반면에, 메모리 사용량이 작고, 카테고리형 피처의 자동 변환과 최적 분할이 가능하다.\n",
    "#단점: 적은 데이터 세트에 적용할 경우 과적합이 발생할 수 있다. 따라서, 데이터의 개수가 10000개 이상일때 사용하는 것이 좋다."
   ]
  },
  {
   "cell_type": "code",
   "execution_count": 18,
   "metadata": {
    "scrolled": true
   },
   "outputs": [
    {
     "name": "stdout",
     "output_type": "stream",
     "text": [
      "{'learning_rate': 0.3}\n",
      "11203.645981790534\n",
      "[20425.56868365825, 12022.076838668658, 11590.66141311688, 11203.645981790534, 11529.176861780024, 13135.209268880475, 12646.056552072083]\n"
     ]
    }
   ],
   "source": [
    "#3.2 LGBM 튜닝\n",
    "import lightgbm as lgb\n",
    "from lightgbm import LGBMModel,LGBMRegressor\n",
    "\n",
    "best_lgbm_score = 1000000\n",
    "each_score = []\n",
    "lr_lgbm = [0.01, 0.05, 0.1, 0.3, 0.5, 0.7, 0.99]\n",
    "\n",
    "for lr in lr_lgbm:\n",
    "    lgbm_reg = LGBMRegressor(learning_rate = lr)\n",
    "    lgbm_reg.fit(train_tune_cbe, train_tune_y)\n",
    "    pred_y = lgbm_reg.predict(val_cbe)\n",
    "    rmse_lgbm = sqrt(mean_squared_error(val_y, pred_y))\n",
    "    \n",
    "    each_score.append(rmse_lgbm)\n",
    "    \n",
    "        # RMSE가 더 작으면 기록합니다.\n",
    "    if rmse_lgbm < best_lgbm_score:\n",
    "        best_lgbm_score = rmse_lgbm\n",
    "        best_parameters = {'learning_rate': lr}\n",
    "        \n",
    "print(best_parameters)\n",
    "print(best_lgbm_score)\n",
    "print(each_score)"
   ]
  },
  {
   "cell_type": "code",
   "execution_count": 19,
   "metadata": {},
   "outputs": [
    {
     "data": {
      "text/plain": [
       "<AxesSubplot:>"
      ]
     },
     "execution_count": 19,
     "metadata": {},
     "output_type": "execute_result"
    },
    {
     "data": {
      "image/png": "[encoded data removed]",
      "text/plain": [
       "<Figure size 432x288 with 1 Axes>"
      ]
     },
     "metadata": {
      "needs_background": "light"
     },
     "output_type": "display_data"
    }
   ],
   "source": [
    "#3.3 튜닝결과 시각화\n",
    "sns.lineplot(x = lr_lgbm, y = each_score)"
   ]
  },
  {
   "cell_type": "code",
   "execution_count": 20,
   "metadata": {},
   "outputs": [],
   "source": [
    "#3.4 튜닝에 대하여 알아보자\n",
    "#그리드 서치는 탐색의 대상이 되는 특정 구간 내의 후보 hyperparameter 값들을 일정한 간격을 두고 선정하여, 이들 각각에 대하여 측정한 성능 결과를 기록한 뒤, 가장 높은 성능을 발휘했던 hyperparameter 값을 선정하는 방법.\n",
    "#즉, 모든 parameter의 경우의 수에 대해 CV 결과가 가장 좋은 parameter를 고르는 방법\n",
    "#그리드 서치 장점: 좀 더 균등하고 전역적인 탐색이 가능하다.\n",
    "#그리드 서치 단점: hyperparameter의 개수를 한 번에 여러종류로 가져갈수록, 전체 탐색 시간이 증가함\n",
    "\n",
    "#랜덤서치는 그리드서치에 비해 불필요한 반복 수행 횟수를 대폭 줄이고, 동시에 정해진 간격사이에 위치한 값들에 대해서도 확률적으로 탐색이 가능하다. 따라서, 최적 hyperparameter 값을 더 빨리 찾을 수 있다.\n",
    "#즉, 랜덤서치는 모든 간격을 전부 서치하는 대신, 랜덤하게 일부의 parameter 들만 관측한 후, 그 중에서 가장 좋은 parameter를 고른다.\n",
    "#랜덤서치 장점: 불필요한 탐색을 줄일 수 있다.\n",
    "#랜덤서치 단점: 사전에 선택된 Parameter를 반영하지 않으므로 탐색속도가 불안정하다.\n",
    "\n",
    "#Bayesian Optimization은 사전에 선택된 parameter를 반영하여 탐색한다\n",
    "#장점: 위의 두 서치에 비해 효율적으로 최적값을 찾아낸다.\n",
    "#단점: 속도가 매우 빠르지는 않다. "
   ]
  },
  {
   "cell_type": "code",
   "execution_count": 21,
   "metadata": {},
   "outputs": [],
   "source": [
    "#4.1 test set 불러오기\n",
    "test= pd.read_csv('test.csv')\n",
    "test_x = test.drop(['price'], axis = 1)\n",
    "test_y = test.loc[:, ['price']]"
   ]
  },
  {
   "cell_type": "code",
   "execution_count": 22,
   "metadata": {},
   "outputs": [],
   "source": [
    "#4.2 캣부스트 인코딩\n",
    "feature_list = list(train_x.columns)\n",
    "\n",
    "CBE_encoder = CatBoostEncoder()\n",
    "train_cbe = CBE_encoder.fit_transform(train_x[feature_list], train_y)\n",
    "test_cbe = CBE_encoder.transform(test_x[feature_list])\n"
   ]
  },
  {
   "cell_type": "code",
   "execution_count": 23,
   "metadata": {},
   "outputs": [
    {
     "data": {
      "text/plain": [
       "LGBMRegressor(learning_rate=0.3)"
      ]
     },
     "execution_count": 23,
     "metadata": {},
     "output_type": "execute_result"
    }
   ],
   "source": [
    "#4.3 최적의 파라미터 적합-Linear Regression\n",
    "best_lin_reg = LinearRegression()\n",
    "best_lin_reg.fit(train_cbe, train_y)\n",
    "\n",
    "best_lgbm_reg = LGBMRegressor(learning_rate = 0.3)\n",
    "best_lgbm_reg.fit(train_cbe, train_y)"
   ]
  },
  {
   "cell_type": "code",
   "execution_count": 24,
   "metadata": {},
   "outputs": [
    {
     "name": "stdout",
     "output_type": "stream",
     "text": [
      "12620.16900868891\n",
      "16350.627412822754\n"
     ]
    }
   ],
   "source": [
    "#4.4 test set에 대해 평가-Linear Regression\n",
    "pred_y = best_lgbm_reg.predict(test_cbe)\n",
    "rmse_best_lgbm = sqrt(mean_squared_error(test_y, pred_y))\n",
    "\n",
    "pred_y = best_lin_reg.predict(test_cbe)\n",
    "rmse_best_lin = sqrt(mean_squared_error(test_y, pred_y))\n",
    "\n",
    "print(rmse_best_lgbm)\n",
    "print(rmse_best_lin)"
   ]
  },
  {
   "cell_type": "code",
   "execution_count": null,
   "metadata": {},
   "outputs": [],
   "source": []
  }
 ],
 "metadata": {
  "kernelspec": {
   "display_name": "Python 3",
   "language": "python",
   "name": "python3"
  },
  "language_info": {
   "codemirror_mode": {
    "name": "ipython",
    "version": 3
   },
   "file_extension": ".py",
   "mimetype": "text/x-python",
   "name": "python",
   "nbconvert_exporter": "python",
   "pygments_lexer": "ipython3",
   "version": "3.8.5"
  },
  "toc": {
   "base_numbering": 1,
   "nav_menu": {},
   "number_sections": true,
   "sideBar": true,
   "skip_h1_title": false,
   "title_cell": "Table of Contents",
   "title_sidebar": "Contents",
   "toc_cell": false,
   "toc_position": {},
   "toc_section_display": true,
   "toc_window_display": false
  },
  "varInspector": {
   "cols": {
    "lenName": 16,
    "lenType": 16,
    "lenVar": 40
   },
   "kernels_config": {
    "python": {
     "delete_cmd_postfix": "",
     "delete_cmd_prefix": "del ",
     "library": "var_list.py",
     "varRefreshCmd": "print(var_dic_list())"
    },
    "r": {
     "delete_cmd_postfix": ") ",
     "delete_cmd_prefix": "rm(",
     "library": "var_list.r",
     "varRefreshCmd": "cat(var_dic_list()) "
    }
   },
   "types_to_exclude": [
    "module",
    "function",
    "builtin_function_or_method",
    "instance",
    "_Feature"
   ],
   "window_display": false
  }
 },
 "nbformat": 4,
 "nbformat_minor": 4
}
